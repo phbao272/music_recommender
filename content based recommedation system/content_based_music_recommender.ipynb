{
 "cells": [
  {
   "cell_type": "markdown",
   "metadata": {},
   "source": [
    "# Music recommender system\n",
    "\n",
    "One of the most used machine learning algorithms is recommendation systems. A **recommender** (or recommendation) **system** (or engine) is a filtering system which aim is to predict a rating or preference a user would give to an item, eg. a film, a product, a song, etc.\n",
    "\n",
    "Which type of recommender can we have?   \n",
    "\n",
    "There are two main types of recommender systems: \n",
    "- Content-based filters\n",
    "- Collaborative filters\n",
    "  \n",
    "> Content-based filters predicts what a user likes based on what that particular user has liked in the past. On the other hand, collaborative-based filters predict what a user like based on what other users, that are similar to that particular user, have liked.\n",
    "\n",
    "### 1) Content-based filters\n",
    "\n",
    "Recommendations done using content-based recommenders can be seen as a user-specific classification problem. This classifier learns the user's likes and dislikes from the features of the song.\n",
    "\n",
    "The most straightforward approach is **keyword matching**.\n",
    "\n",
    "In a few words, the idea behind is to extract meaningful keywords present in a song description a user likes, search for the keywords in other song descriptions to estimate similarities among them, and based on that, recommend those songs to the user.\n",
    "\n",
    "*How is this performed?*\n",
    "\n",
    "In our case, because we are working with text and words, **Term Frequency-Inverse Document Frequency (TF-IDF)** can be used for this matching process.\n",
    "  \n",
    "We'll go through the steps for generating a **content-based** music recommender system."
   ]
  },
  {
   "cell_type": "markdown",
   "metadata": {},
   "source": [
    "### Importing required libraries\n",
    "\n",
    "First, we'll import all the required libraries."
   ]
  },
  {
   "cell_type": "code",
   "execution_count": 485,
   "metadata": {},
   "outputs": [],
   "source": [
    "import numpy as np\n",
    "import pandas as pd"
   ]
  },
  {
   "cell_type": "markdown",
   "metadata": {},
   "source": []
  },
  {
   "cell_type": "code",
   "execution_count": 486,
   "metadata": {},
   "outputs": [],
   "source": [
    "from typing import List, Dict"
   ]
  },
  {
   "cell_type": "markdown",
   "metadata": {},
   "source": [
    "We have already used the **TF-IDF score before** when performing Twitter sentiment analysis. \n",
    "\n",
    "Likewise, we are going to use TfidfVectorizer from the Scikit-learn package again."
   ]
  },
  {
   "cell_type": "code",
   "execution_count": 487,
   "metadata": {},
   "outputs": [],
   "source": [
    "from sklearn.feature_extraction.text import TfidfVectorizer\n",
    "from sklearn.metrics.pairwise import cosine_similarity\n",
    "from sklearn.metrics.pairwise import distance"
   ]
  },
  {
   "cell_type": "markdown",
   "metadata": {},
   "source": [
    "### Dataset"
   ]
  },
  {
   "cell_type": "markdown",
   "metadata": {},
   "source": [
    "So imagine that we have the [following dataset](https://www.kaggle.com/mousehead/songlyrics/data#). \n",
    "\n",
    "This dataset contains name, artist, and lyrics for *57650 songs in English*. The data has been acquired from LyricsFreak through scraping."
   ]
  },
  {
   "cell_type": "code",
   "execution_count": 488,
   "metadata": {},
   "outputs": [],
   "source": [
    "songs = pd.read_csv('songdata.csv', nrows=1000)"
   ]
  },
  {
   "cell_type": "code",
   "execution_count": 489,
   "metadata": {},
   "outputs": [
    {
     "data": {
      "text/html": [
       "<div>\n",
       "<style scoped>\n",
       "    .dataframe tbody tr th:only-of-type {\n",
       "        vertical-align: middle;\n",
       "    }\n",
       "\n",
       "    .dataframe tbody tr th {\n",
       "        vertical-align: top;\n",
       "    }\n",
       "\n",
       "    .dataframe thead th {\n",
       "        text-align: right;\n",
       "    }\n",
       "</style>\n",
       "<table border=\"1\" class=\"dataframe\">\n",
       "  <thead>\n",
       "    <tr style=\"text-align: right;\">\n",
       "      <th></th>\n",
       "      <th>artist</th>\n",
       "      <th>song</th>\n",
       "      <th>link</th>\n",
       "      <th>text</th>\n",
       "    </tr>\n",
       "  </thead>\n",
       "  <tbody>\n",
       "    <tr>\n",
       "      <th>0</th>\n",
       "      <td>ABBA</td>\n",
       "      <td>Ahe's My Kind Of Girl</td>\n",
       "      <td>/a/abba/ahes+my+kind+of+girl_20598417.html</td>\n",
       "      <td>Look at her face, it's a wonderful face  \\nAnd...</td>\n",
       "    </tr>\n",
       "    <tr>\n",
       "      <th>1</th>\n",
       "      <td>ABBA</td>\n",
       "      <td>Andante, Andante</td>\n",
       "      <td>/a/abba/andante+andante_20002708.html</td>\n",
       "      <td>Take it easy with me, please  \\nTouch me gentl...</td>\n",
       "    </tr>\n",
       "    <tr>\n",
       "      <th>2</th>\n",
       "      <td>ABBA</td>\n",
       "      <td>As Good As New</td>\n",
       "      <td>/a/abba/as+good+as+new_20003033.html</td>\n",
       "      <td>I'll never know why I had to go  \\nWhy I had t...</td>\n",
       "    </tr>\n",
       "    <tr>\n",
       "      <th>3</th>\n",
       "      <td>ABBA</td>\n",
       "      <td>Bang</td>\n",
       "      <td>/a/abba/bang_20598415.html</td>\n",
       "      <td>Making somebody happy is a question of give an...</td>\n",
       "    </tr>\n",
       "    <tr>\n",
       "      <th>4</th>\n",
       "      <td>ABBA</td>\n",
       "      <td>Bang-A-Boomerang</td>\n",
       "      <td>/a/abba/bang+a+boomerang_20002668.html</td>\n",
       "      <td>Making somebody happy is a question of give an...</td>\n",
       "    </tr>\n",
       "  </tbody>\n",
       "</table>\n",
       "</div>"
      ],
      "text/plain": [
       "  artist                   song                                        link  \\\n",
       "0   ABBA  Ahe's My Kind Of Girl  /a/abba/ahes+my+kind+of+girl_20598417.html   \n",
       "1   ABBA       Andante, Andante       /a/abba/andante+andante_20002708.html   \n",
       "2   ABBA         As Good As New        /a/abba/as+good+as+new_20003033.html   \n",
       "3   ABBA                   Bang                  /a/abba/bang_20598415.html   \n",
       "4   ABBA       Bang-A-Boomerang      /a/abba/bang+a+boomerang_20002668.html   \n",
       "\n",
       "                                                text  \n",
       "0  Look at her face, it's a wonderful face  \\nAnd...  \n",
       "1  Take it easy with me, please  \\nTouch me gentl...  \n",
       "2  I'll never know why I had to go  \\nWhy I had t...  \n",
       "3  Making somebody happy is a question of give an...  \n",
       "4  Making somebody happy is a question of give an...  "
      ]
     },
     "execution_count": 489,
     "metadata": {},
     "output_type": "execute_result"
    }
   ],
   "source": [
    "songs.head()"
   ]
  },
  {
   "cell_type": "markdown",
   "metadata": {},
   "source": [
    "Because of the dataset being so big, we are going to resample only 5000 random songs."
   ]
  },
  {
   "cell_type": "code",
   "execution_count": 490,
   "metadata": {},
   "outputs": [],
   "source": [
    "# songs = songs.sample(n=5000).drop('link', axis=1).reset_index(drop=True)\n",
    "songs = songs.drop('link', axis=1)"
   ]
  },
  {
   "cell_type": "markdown",
   "metadata": {},
   "source": [
    "We can notice also the presence of `\\n` in the text, so we are going to remove it."
   ]
  },
  {
   "cell_type": "code",
   "execution_count": 491,
   "metadata": {},
   "outputs": [],
   "source": [
    "songs['text'] = songs['text'].str.replace(r'\\n', '', regex=True)"
   ]
  },
  {
   "cell_type": "code",
   "execution_count": 492,
   "metadata": {},
   "outputs": [
    {
     "data": {
      "text/plain": [
       "0      Look at her face, it's a wonderful face  And i...\n",
       "1      Take it easy with me, please  Touch me gently ...\n",
       "2      I'll never know why I had to go  Why I had to ...\n",
       "3      Making somebody happy is a question of give an...\n",
       "4      Making somebody happy is a question of give an...\n",
       "                             ...                        \n",
       "995    Here I am again  Waiting on the moment you dec...\n",
       "996    Oh  Oh  Oh oh oh yeah  Oh no  Yeah    Shorty a...\n",
       "997    [Chorus]  You're my shining star  That is what...\n",
       "998    Ignorance of people purchasing diamonds and ne...\n",
       "999    When you come back I won't be here  She said a...\n",
       "Name: text, Length: 1000, dtype: object"
      ]
     },
     "execution_count": 492,
     "metadata": {},
     "output_type": "execute_result"
    }
   ],
   "source": [
    "songs['text']"
   ]
  },
  {
   "cell_type": "markdown",
   "metadata": {},
   "source": [
    "After that, we use TF-IDF vectorizerthat calculates the TF-IDF score for each song lyric, word-by-word. \n",
    "\n",
    "Here, we pay particular attention to the arguments we can specify."
   ]
  },
  {
   "cell_type": "code",
   "execution_count": 493,
   "metadata": {},
   "outputs": [],
   "source": [
    "tfidf = TfidfVectorizer(analyzer='word', stop_words='english')"
   ]
  },
  {
   "cell_type": "code",
   "execution_count": 494,
   "metadata": {},
   "outputs": [],
   "source": [
    "lyrics_matrix = tfidf.fit_transform(songs['text'])"
   ]
  },
  {
   "cell_type": "markdown",
   "metadata": {},
   "source": [
    "*How do we use this matrix for a recommendation?* \n",
    "\n",
    "We now need to calculate the similarity of one lyric to another. We are going to use **cosine similarity**.\n",
    "\n",
    "We want to calculate the cosine similarity of each item with every other item in the dataset. So we just pass the lyrics_matrix as argument."
   ]
  },
  {
   "cell_type": "code",
   "execution_count": 495,
   "metadata": {},
   "outputs": [],
   "source": [
    "# print(lyrics_matrix[0])"
   ]
  },
  {
   "cell_type": "code",
   "execution_count": 496,
   "metadata": {},
   "outputs": [
    {
     "name": "stdout",
     "output_type": "stream",
     "text": [
      "[[1.         0.00199367 0.00837601 ... 0.01018171 0.05254204 0.01583982]\n",
      " [0.00199367 1.         0.00476219 ... 0.03191786 0.01568829 0.02211107]\n",
      " [0.00837601 0.00476219 1.         ... 0.02310628 0.00784733 0.01775392]\n",
      " ...\n",
      " [0.01018171 0.03191786 0.02310628 ... 1.         0.02310019 0.15968013]\n",
      " [0.05254204 0.01568829 0.00784733 ... 0.02310019 1.         0.01009026]\n",
      " [0.01583982 0.02211107 0.01775392 ... 0.15968013 0.01009026 1.        ]]\n",
      "(1000, 1000)\n"
     ]
    }
   ],
   "source": [
    "cosine_similarities = cosine_similarity(lyrics_matrix) \n",
    "print(cosine_similarities)\n",
    "print(cosine_similarities.shape)\n"
   ]
  },
  {
   "cell_type": "code",
   "execution_count": 497,
   "metadata": {},
   "outputs": [],
   "source": [
    "# distance_matrix = distance.cdist(lyrics_matrix, lyrics_matrix, metric='euclidean')\n",
    "# print(distance_matrix)"
   ]
  },
  {
   "cell_type": "markdown",
   "metadata": {},
   "source": [
    "Once we get the similarities, we'll store in a dictionary the names of the 50  most similar songs for each song in our dataset."
   ]
  },
  {
   "cell_type": "code",
   "execution_count": 498,
   "metadata": {},
   "outputs": [],
   "source": [
    "similarities = {}"
   ]
  },
  {
   "cell_type": "code",
   "execution_count": 499,
   "metadata": {},
   "outputs": [],
   "source": [
    "for i in range(len(cosine_similarities)):\n",
    "    # Now we'll sort each element in cosine_similarities and get the indexes of the songs. \n",
    "    similar_indices = cosine_similarities[i].argsort()[:-50:-1] \n",
    "    # After that, we'll store in similarities each name of the 50 most similar songs.\n",
    "    # Except the first one that is the same song.\n",
    "    similarities[songs['song'].iloc[i]] = [(cosine_similarities[i][x], songs['song'][x], songs['artist'][x]) for x in similar_indices][1:]\n",
    "\n",
    "# print(similarities)"
   ]
  },
  {
   "cell_type": "markdown",
   "metadata": {},
   "source": [
    "After that, all the magic happens. We can use that similarity scores to access the most similar items and give a recommendation.\n",
    "\n",
    "For that, we'll define our Content based recommender class."
   ]
  },
  {
   "cell_type": "code",
   "execution_count": 500,
   "metadata": {},
   "outputs": [],
   "source": [
    "class ContentBasedRecommender:\n",
    "    def __init__(self, matrix):\n",
    "        self.matrix_similar = matrix\n",
    "\n",
    "    def _print_message(self, song, recom_song):\n",
    "        rec_items = len(recom_song)\n",
    "        \n",
    "        print(f'The {rec_items} recommended (Cosine) songs for {song} are:')\n",
    "        for i in range(rec_items):\n",
    "            print(f\"Number {i+1}:\")\n",
    "            print(f\"{recom_song[i][1]} by {recom_song[i][2]} with {round(recom_song[i][0], 3)} similarity score\") \n",
    "            print(\"--------------------\")\n",
    "        \n",
    "    def recommend(self, recommendation):\n",
    "        # Get song to find recommendations for\n",
    "        song = recommendation['song']\n",
    "        # Get number of songs to recommend\n",
    "        number_songs = recommendation['number_songs']\n",
    "        # Get the number of songs most similars from matrix similarities\n",
    "        recom_song = self.matrix_similar[song][:number_songs]\n",
    "        # print each item\n",
    "        self._print_message(song=song, recom_song=recom_song)"
   ]
  },
  {
   "cell_type": "markdown",
   "metadata": {},
   "source": [
    "Now, instantiate class"
   ]
  },
  {
   "cell_type": "code",
   "execution_count": 501,
   "metadata": {},
   "outputs": [],
   "source": [
    "recommedations = ContentBasedRecommender(similarities)"
   ]
  },
  {
   "cell_type": "markdown",
   "metadata": {},
   "source": [
    "Then, we are ready to pick a song from the dataset and make a recommendation."
   ]
  },
  {
   "cell_type": "code",
   "execution_count": 502,
   "metadata": {},
   "outputs": [],
   "source": [
    "recommendation = {\n",
    "    \"song\": songs['song'].iloc[1],\n",
    "    \"number_songs\": 8\n",
    "}"
   ]
  },
  {
   "cell_type": "code",
   "execution_count": 503,
   "metadata": {},
   "outputs": [
    {
     "name": "stdout",
     "output_type": "stream",
     "text": [
      "The 8 recommended (Cosine) songs for Andante, Andante are:\n",
      "Number 1:\n",
      "Gonna Sing You My Lovesong by ABBA with 0.176 similarity score\n",
      "--------------------\n",
      "Number 2:\n",
      "Cowboy Song by Arlo Guthrie with 0.13 similarity score\n",
      "--------------------\n",
      "Number 3:\n",
      "Making Love Out Of Nothing At All by Air Supply with 0.124 similarity score\n",
      "--------------------\n",
      "Number 4:\n",
      "Dance by ABBA with 0.119 similarity score\n",
      "--------------------\n",
      "Number 5:\n",
      "Don't Let It Get You Down by America with 0.117 similarity score\n",
      "--------------------\n",
      "Number 6:\n",
      "Strong Strong Wind by Air Supply with 0.115 similarity score\n",
      "--------------------\n",
      "Number 7:\n",
      "Power Of Love by Arlo Guthrie with 0.115 similarity score\n",
      "--------------------\n",
      "Number 8:\n",
      "Make It Right by Air Supply with 0.113 similarity score\n",
      "--------------------\n"
     ]
    }
   ],
   "source": [
    "recommedations.recommend(recommendation)"
   ]
  },
  {
   "cell_type": "markdown",
   "metadata": {},
   "source": [
    "And we can pick another random song and recommend again:"
   ]
  },
  {
   "cell_type": "code",
   "execution_count": 520,
   "metadata": {},
   "outputs": [],
   "source": [
    "recommendation2 = {\n",
    "    \"song\": songs['song'].iloc[800],\n",
    "    \"number_songs\": 8\n",
    "}"
   ]
  },
  {
   "cell_type": "code",
   "execution_count": 521,
   "metadata": {},
   "outputs": [
    {
     "name": "stdout",
     "output_type": "stream",
     "text": [
      "The 8 recommended (Cosine) songs for I Ride On Old Pain are:\n",
      "Number 1:\n",
      "Same Old Song And Dance by Aerosmith with 0.174 similarity score\n",
      "--------------------\n",
      "Number 2:\n",
      "Old Friend by Allman Brothers Band with 0.154 similarity score\n",
      "--------------------\n",
      "Number 3:\n",
      "Milkcow Blues by Aerosmith with 0.142 similarity score\n",
      "--------------------\n",
      "Number 4:\n",
      "Let Me Ride by Allman Brothers Band with 0.132 similarity score\n",
      "--------------------\n",
      "Number 5:\n",
      "The Motorcycle Song by Arlo Guthrie with 0.128 similarity score\n",
      "--------------------\n",
      "Number 6:\n",
      "When The Cactus Is In Bloom by Arlo Guthrie with 0.124 similarity score\n",
      "--------------------\n",
      "Number 7:\n",
      "Draw The Line by Aerosmith with 0.123 similarity score\n",
      "--------------------\n",
      "Number 8:\n",
      "Down To The Water by America with 0.122 similarity score\n",
      "--------------------\n"
     ]
    }
   ],
   "source": [
    "recommedations.recommend(recommendation2)"
   ]
  },
  {
   "cell_type": "code",
   "execution_count": 506,
   "metadata": {},
   "outputs": [],
   "source": [
    "# corpus = [\n",
    "#      'This is the first document is asd  ssa.',\n",
    "#      'This is the first document is.'\n",
    "#  ]\n",
    "\n",
    "# vectorizer = TfidfVectorizer(analyzer='word', stop_words='english')"
   ]
  },
  {
   "cell_type": "code",
   "execution_count": 507,
   "metadata": {},
   "outputs": [],
   "source": [
    "# X = vectorizer.fit_transform(corpus)\n",
    "# print(X)\n",
    "# print(vectorizer.vocabulary_) # dictionary of words and their index"
   ]
  },
  {
   "cell_type": "code",
   "execution_count": 508,
   "metadata": {},
   "outputs": [
    {
     "data": {
      "text/plain": [
       "(1000, 8734)"
      ]
     },
     "execution_count": 508,
     "metadata": {},
     "output_type": "execute_result"
    }
   ],
   "source": [
    "# print(vectorizer.get_stop_words())\n",
    "lyrics_matrix.shape"
   ]
  },
  {
   "cell_type": "code",
   "execution_count": 509,
   "metadata": {},
   "outputs": [],
   "source": [
    "# cosine_similarities = cosine_similarity(X) \n",
    "# print(cosine_similarities)"
   ]
  },
  {
   "cell_type": "code",
   "execution_count": 510,
   "metadata": {},
   "outputs": [],
   "source": [
    "array = []\n",
    "# print(X.shape)\n",
    "for i in range(lyrics_matrix.shape[0]):\n",
    "   sub_array = []\n",
    "   for j in range(lyrics_matrix.shape[1]):\n",
    "      sub_array.append(lyrics_matrix[i,j])\n",
    "      # print(lyrics_matrix[i,j])\n",
    "   array.append(sub_array)  \n",
    "   # print(sub_array)   \n",
    "\n",
    "# print(array)"
   ]
  },
  {
   "cell_type": "code",
   "execution_count": 511,
   "metadata": {},
   "outputs": [
    {
     "name": "stdout",
     "output_type": "stream",
     "text": [
      "(1000, 1000)\n",
      "[[0.         1.41280312 1.40827838 ... 1.40699558 1.37655945 1.40296841]\n",
      " [1.41280312 0.         1.41084217 ... 1.3914612  1.40307641 1.39849128]\n",
      " [1.40827838 1.41084217 0.         ... 1.39777947 1.40865373 1.40160343]\n",
      " ...\n",
      " [1.40699558 1.3914612  1.39777947 ... 0.         1.39778382 1.2963949 ]\n",
      " [1.37655945 1.40307641 1.40865373 ... 1.39778382 0.         1.40706058]\n",
      " [1.40296841 1.39849128 1.40160343 ... 1.2963949  1.40706058 0.        ]]\n"
     ]
    }
   ],
   "source": [
    "distance_matrix = distance.cdist(array, array, metric='euclidean')\n",
    "print(distance_matrix.shape)\n",
    "print(distance_matrix)"
   ]
  },
  {
   "cell_type": "code",
   "execution_count": 512,
   "metadata": {},
   "outputs": [],
   "source": [
    "similarities_distance = {}\n",
    "for i in range(len(distance_matrix)):\n",
    "    # Now we'll sort each element in cosine_similarities and get the indexes of the songs. \n",
    "    similar_indices = distance_matrix[i].argsort()[:50] \n",
    "    # After that, we'll store in similarities each name of the 50 most similar songs.\n",
    "    # Except the first one that is the same song.\n",
    "    similarities_distance[songs['song'].iloc[i]] = [(distance_matrix[i][x], songs['song'][x], songs['artist'][x]) for x in similar_indices][1:]\n",
    "# print(similarities_distance)"
   ]
  },
  {
   "cell_type": "code",
   "execution_count": 513,
   "metadata": {},
   "outputs": [],
   "source": [
    "class ContentBasedRecommender_Euclidean:\n",
    "    def __init__(self, matrix):\n",
    "        self.matrix_similar = matrix\n",
    "\n",
    "    def _print_message(self, song, recom_song):\n",
    "        rec_items = len(recom_song)\n",
    "        \n",
    "        print(f'The {rec_items} recommended (Euclidean) songs for {song} are:')\n",
    "        for i in range(rec_items):\n",
    "            print(f\"Number {i+1}:\")\n",
    "            print(f\"{recom_song[i][1]} by {recom_song[i][2]} with {round(recom_song[i][0], 3)} similarity score\") \n",
    "            print(\"--------------------\")\n",
    "        \n",
    "    def recommend(self, recommendation):\n",
    "        # Get song to find recommendations for\n",
    "        song = recommendation['song']\n",
    "        # Get number of songs to recommend\n",
    "        number_songs = recommendation['number_songs']\n",
    "        # Get the number of songs most similars from matrix similarities\n",
    "        recom_song = self.matrix_similar[song][:number_songs]\n",
    "        # print each item\n",
    "        self._print_message(song=song, recom_song=recom_song)"
   ]
  },
  {
   "cell_type": "code",
   "execution_count": 514,
   "metadata": {},
   "outputs": [],
   "source": [
    "recommedations_Euclidean = ContentBasedRecommender_Euclidean(similarities_distance)\n"
   ]
  },
  {
   "cell_type": "code",
   "execution_count": 515,
   "metadata": {},
   "outputs": [
    {
     "name": "stdout",
     "output_type": "stream",
     "text": [
      "The 8 recommended (Euclidean) songs for Andante, Andante are:\n",
      "Number 1:\n",
      "Gonna Sing You My Lovesong by ABBA with 1.284 similarity score\n",
      "--------------------\n",
      "Number 2:\n",
      "Cowboy Song by Arlo Guthrie with 1.319 similarity score\n",
      "--------------------\n",
      "Number 3:\n",
      "Making Love Out Of Nothing At All by Air Supply with 1.323 similarity score\n",
      "--------------------\n",
      "Number 4:\n",
      "Dance by ABBA with 1.328 similarity score\n",
      "--------------------\n",
      "Number 5:\n",
      "Don't Let It Get You Down by America with 1.329 similarity score\n",
      "--------------------\n",
      "Number 6:\n",
      "Strong Strong Wind by Air Supply with 1.331 similarity score\n",
      "--------------------\n",
      "Number 7:\n",
      "Power Of Love by Arlo Guthrie with 1.331 similarity score\n",
      "--------------------\n",
      "Number 8:\n",
      "Make It Right by Air Supply with 1.332 similarity score\n",
      "--------------------\n"
     ]
    }
   ],
   "source": [
    "recommendation = {\n",
    "    \"song\": songs['song'].iloc[1],\n",
    "    \"number_songs\": 8\n",
    "}\n",
    "\n",
    "recommedations_Euclidean.recommend(recommendation)\n",
    "\n"
   ]
  },
  {
   "cell_type": "code",
   "execution_count": 519,
   "metadata": {},
   "outputs": [
    {
     "name": "stdout",
     "output_type": "stream",
     "text": [
      "The 8 recommended (Euclidean) songs for I Ride On Old Pain are:\n",
      "Number 1:\n",
      "Same Old Song And Dance by Aerosmith with 1.285 similarity score\n",
      "--------------------\n",
      "Number 2:\n",
      "Old Friend by Allman Brothers Band with 1.301 similarity score\n",
      "--------------------\n",
      "Number 3:\n",
      "Milkcow Blues by Aerosmith with 1.31 similarity score\n",
      "--------------------\n",
      "Number 4:\n",
      "Let Me Ride by Allman Brothers Band with 1.318 similarity score\n",
      "--------------------\n",
      "Number 5:\n",
      "The Motorcycle Song by Arlo Guthrie with 1.321 similarity score\n",
      "--------------------\n",
      "Number 6:\n",
      "When The Cactus Is In Bloom by Arlo Guthrie with 1.324 similarity score\n",
      "--------------------\n",
      "Number 7:\n",
      "Draw The Line by Aerosmith with 1.325 similarity score\n",
      "--------------------\n",
      "Number 8:\n",
      "Down To The Water by America with 1.325 similarity score\n",
      "--------------------\n"
     ]
    }
   ],
   "source": [
    "recommendation3 = {\n",
    "    \"song\": songs['song'].iloc[800],\n",
    "    \"number_songs\": 8 \n",
    "}\n",
    "\n",
    "recommedations_Euclidean.recommend(recommendation3)"
   ]
  },
  {
   "cell_type": "code",
   "execution_count": 517,
   "metadata": {},
   "outputs": [
    {
     "name": "stdout",
     "output_type": "stream",
     "text": [
      "[[0.         0.12569805 1.37244308 1.23895117]\n",
      " [0.12569805 0.         1.25163893 1.1174972 ]\n",
      " [1.37244308 1.25163893 0.         0.13638182]\n",
      " [1.23895117 1.1174972  0.13638182 0.        ]]\n",
      "[0 1 3]\n",
      "this is: Ahe's My Kind Of Girl [(0.0, \"Ahe's My Kind Of Girl\", 'ABBA'), (0.12569805089976535, 'Andante, Andante', 'ABBA'), (1.2389511693363866, 'Bang', 'ABBA')]\n",
      "[1 0 3]\n",
      "this is: Andante, Andante [(0.0, 'Andante, Andante', 'ABBA'), (0.12569805089976535, \"Ahe's My Kind Of Girl\", 'ABBA'), (1.1174972035759194, 'Bang', 'ABBA')]\n",
      "[2 3 1]\n",
      "this is: As Good As New [(0.0, 'As Good As New', 'ABBA'), (0.13638181696985854, 'Bang', 'ABBA'), (1.2516389255691913, 'Andante, Andante', 'ABBA')]\n",
      "[3 2 1]\n",
      "this is: Bang [(0.0, 'Bang', 'ABBA'), (0.13638181696985854, 'As Good As New', 'ABBA'), (1.1174972035759194, 'Andante, Andante', 'ABBA')]\n"
     ]
    }
   ],
   "source": [
    "arr = [[1,0,0], [0.9,0.07,0.03], [0.02, 0.96, 0.04], [0.1, 0.85, 0.05]]\n",
    "testArray = distance.cdist(arr, arr, metric='euclidean')\n",
    "# print(testArray.shape)\n",
    "print(testArray)\n",
    "\n",
    "similarities_distance = {}\n",
    "for i in range(len(testArray)):\n",
    "    # Now we'll sort each element in cosine_similarities and get the indexes of the songs. \n",
    "    # Return index asc\n",
    "    similar_indices = testArray[i].argsort()[:3] \n",
    "    # similar_indices = testArray[i].argsort()\n",
    "    print(similar_indices)\n",
    "\n",
    "    # After that, we'll store in similarities each name of the 50 most similar songs.\n",
    "    # Except the first one that is the same song.\n",
    "    similarities_distance[songs['song'].iloc[i]] = [(testArray[i][x], songs['song'][x], songs['artist'][x]) for x in similar_indices][1:]\n",
    "    print('this is:',songs['song'].iloc[i], [(testArray[i][x], songs['song'][x], songs['artist'][x]) for x in similar_indices][0:])\n",
    "# print(similarities_distance)"
   ]
  }
 ],
 "metadata": {
  "kernelspec": {
   "display_name": "Python 3",
   "language": "python",
   "name": "python3"
  },
  "language_info": {
   "codemirror_mode": {
    "name": "ipython",
    "version": 3
   },
   "file_extension": ".py",
   "mimetype": "text/x-python",
   "name": "python",
   "nbconvert_exporter": "python",
   "pygments_lexer": "ipython3",
   "version": "3.11.1"
  },
  "vscode": {
   "interpreter": {
    "hash": "aee8b7b246df8f9039afb4144a1f6fd8d2ca17a180786b69acc140d282b71a49"
   }
  }
 },
 "nbformat": 4,
 "nbformat_minor": 2
}
